{
 "cells": [
  {
   "cell_type": "code",
   "execution_count": 1,
   "metadata": {},
   "outputs": [],
   "source": [
    "from PIL import Image\n",
    "from hao.CLIP import CLIPModelWrapper\n",
    "# 加载示例图像和文本\n",
    "img_path = r\"data\\test_img\\cat.jpg\"\n",
    "img_path2 = r\"data\\test_img\\tsl.png\"\n",
    "clip_model = CLIPModelWrapper()"
   ]
  },
  {
   "cell_type": "code",
   "execution_count": 2,
   "metadata": {},
   "outputs": [
    {
     "name": "stdout",
     "output_type": "stream",
     "text": [
      "torch.Size([2, 512])\n"
     ]
    }
   ],
   "source": [
    "text_features = clip_model.encode_text([\"A photo of a cat\", \"A beautiful sunrise\"])\n",
    "print(text_features.shape)  # 输出: torch.Size([2, 512])"
   ]
  },
  {
   "cell_type": "code",
   "execution_count": 3,
   "metadata": {},
   "outputs": [
    {
     "name": "stdout",
     "output_type": "stream",
     "text": [
      "torch.Size([1, 512])\n"
     ]
    }
   ],
   "source": [
    "image = Image.open(img_path)\n",
    "image_features = clip_model.encode_image([image])\n",
    "print(image_features.shape)  # 输出: torch.Size([1, 512])"
   ]
  },
  {
   "cell_type": "code",
   "execution_count": 4,
   "metadata": {},
   "outputs": [
    {
     "name": "stdout",
     "output_type": "stream",
     "text": [
      "tensor([9.9952e-01, 4.7783e-04], device='cuda:0')\n"
     ]
    }
   ],
   "source": [
    "similarity = clip_model.calculate_similarity(image_features, text_features)\n",
    "print(similarity)  # 输出相似度张量"
   ]
  },
  {
   "cell_type": "code",
   "execution_count": 5,
   "metadata": {},
   "outputs": [
    {
     "name": "stdout",
     "output_type": "stream",
     "text": [
      "Predicted: a cat with score 0.9949866533279419\n"
     ]
    }
   ],
   "source": [
    "categories = [\"a dog\", \"a cat\", \"a Monsters\", \"a Tesla\"]\n",
    "label, score = clip_model.classify_image(image, categories)\n",
    "print(f\"Predicted: {label} with score {score}\")"
   ]
  },
  {
   "cell_type": "code",
   "execution_count": 6,
   "metadata": {},
   "outputs": [
    {
     "name": "stdout",
     "output_type": "stream",
     "text": [
      "[('a cat', 0.9949866533279419), ('a Monsters', 0.985612690448761)]\n"
     ]
    }
   ],
   "source": [
    "images = [Image.open(img_path), Image.open(img_path2)]\n",
    "results = clip_model.batch_classify_images(images, categories)\n",
    "print(results)  # 输出每张图像的分类结果\n"
   ]
  }
 ],
 "metadata": {
  "kernelspec": {
   "display_name": "demo007",
   "language": "python",
   "name": "python3"
  },
  "language_info": {
   "codemirror_mode": {
    "name": "ipython",
    "version": 3
   },
   "file_extension": ".py",
   "mimetype": "text/x-python",
   "name": "python",
   "nbconvert_exporter": "python",
   "pygments_lexer": "ipython3",
   "version": "3.11.10"
  }
 },
 "nbformat": 4,
 "nbformat_minor": 2
}
