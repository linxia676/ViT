{
 "cells": [
  {
   "cell_type": "code",
   "execution_count": 4,
   "metadata": {},
   "outputs": [
    {
     "name": "stdout",
     "output_type": "stream",
     "text": [
      "Loss using F.cross_entropy: 0.30765658617019653\n",
      "Loss using F.log_softmax + F.nll_loss: 0.30765658617019653\n",
      "Test passed: The two losses are identical.\n"
     ]
    }
   ],
   "source": [
    "import torch\n",
    "import torch.nn.functional as F\n",
    "\n",
    "# 输入相似性分数 similarity 和标签 labels\n",
    "similarity = torch.tensor([[2.5, 1.0, 0.5], \n",
    "                           [0.2, 1.8, 3.0]])  # 示例数据\n",
    "labels = torch.tensor([0, 2])  # 示例标签\n",
    "\n",
    "# similarity = similarity.softmax(-1)\n",
    "\n",
    "# 使用 F.cross_entropy 计算损失\n",
    "loss_ce = F.cross_entropy(similarity, labels)\n",
    "\n",
    "# 使用 F.log_softmax + F.nll_loss 计算损失\n",
    "log_probs = F.log_softmax(similarity, dim=1)  # softmax + log\n",
    "loss_nll = F.nll_loss(log_probs, labels)\n",
    "\n",
    "# 打印两个损失，验证是否相同\n",
    "print(\"Loss using F.cross_entropy:\", loss_ce.item())\n",
    "print(\"Loss using F.log_softmax + F.nll_loss:\", loss_nll.item())\n",
    "\n",
    "# 验证两者是否相等\n",
    "assert torch.isclose(loss_ce, loss_nll), \"The two losses should be identical!\"\n",
    "print(\"Test passed: The two losses are identical.\")\n"
   ]
  },
  {
   "cell_type": "code",
   "execution_count": 5,
   "metadata": {},
   "outputs": [
    {
     "data": {
      "text/plain": [
       "tensor([[2.5000, 1.0000, 0.5000],\n",
       "        [0.2000, 1.8000, 3.0000]])"
      ]
     },
     "execution_count": 5,
     "metadata": {},
     "output_type": "execute_result"
    }
   ],
   "source": [
    "similarity"
   ]
  },
  {
   "cell_type": "code",
   "execution_count": 6,
   "metadata": {},
   "outputs": [
    {
     "data": {
      "text/plain": [
       "tensor([[0.7361, 0.1643, 0.0996],\n",
       "        [0.0446, 0.2211, 0.7342]])"
      ]
     },
     "execution_count": 6,
     "metadata": {},
     "output_type": "execute_result"
    }
   ],
   "source": [
    "similarity = similarity.softmax(-1)\n",
    "\n",
    "similarity"
   ]
  },
  {
   "cell_type": "code",
   "execution_count": 7,
   "metadata": {},
   "outputs": [
    {
     "data": {
      "text/plain": [
       "tensor([[0.4776, 0.2696, 0.2527],\n",
       "        [0.2389, 0.2850, 0.4761]])"
      ]
     },
     "execution_count": 7,
     "metadata": {},
     "output_type": "execute_result"
    }
   ],
   "source": [
    "similarity = similarity.softmax(-1)\n",
    "\n",
    "similarity"
   ]
  },
  {
   "cell_type": "code",
   "execution_count": null,
   "metadata": {},
   "outputs": [],
   "source": []
  },
  {
   "cell_type": "code",
   "execution_count": 50,
   "metadata": {},
   "outputs": [
    {
     "data": {
      "text/plain": [
       "(tensor([[-0.7059,  1.4142, -0.7083]], grad_fn=<NativeLayerNormBackward0>),\n",
       " tensor([[[ 1.4129, -0.6539, -0.7590],\n",
       "          [-0.3098, -1.0401,  1.3499]]], grad_fn=<NativeLayerNormBackward0>))"
      ]
     },
     "execution_count": 50,
     "metadata": {},
     "output_type": "execute_result"
    }
   ],
   "source": [
    "import torch.nn as nn\n",
    "import torch\n",
    "image_features, text_features = torch.tensor([[100.0, 78988, 9]], dtype=torch.float), torch.tensor([[[2323.0, 121, 9], [100.0, 12, 300]]], dtype=torch.float)\n",
    "final_norm = nn.LayerNorm(3)\n",
    "image_features = final_norm(image_features)\n",
    "text_features = final_norm(text_features)\n",
    "image_features, text_features"
   ]
  },
  {
   "cell_type": "code",
   "execution_count": 51,
   "metadata": {},
   "outputs": [
    {
     "data": {
      "text/plain": [
       "(tensor([[-0.7059,  1.4142, -0.7083]], grad_fn=<NativeLayerNormBackward0>),\n",
       " tensor([[[ 1.4129, -0.6539, -0.7590],\n",
       "          [-0.3098, -1.0401,  1.3499]]], grad_fn=<NativeLayerNormBackward0>))"
      ]
     },
     "execution_count": 51,
     "metadata": {},
     "output_type": "execute_result"
    }
   ],
   "source": [
    "image_features = final_norm(image_features)\n",
    "text_features = final_norm(text_features)\n",
    "image_features, text_features"
   ]
  },
  {
   "cell_type": "code",
   "execution_count": 49,
   "metadata": {},
   "outputs": [
    {
     "data": {
      "text/plain": [
       "(tensor([[-0.4075,  0.8165, -0.4090]], grad_fn=<DivBackward0>),\n",
       " tensor([[[ 0.8157, -0.3775, -0.4382],\n",
       "          [-0.1789, -0.6005,  0.7794]]], grad_fn=<DivBackward0>))"
      ]
     },
     "execution_count": 49,
     "metadata": {},
     "output_type": "execute_result"
    }
   ],
   "source": [
    "image_features = torch.nn.functional.normalize(image_features,p=2,dim=1) \n",
    "text_features = torch.nn.functional.normalize(text_features,p=2,dim=2)\n",
    "image_features, text_features"
   ]
  },
  {
   "cell_type": "code",
   "execution_count": 47,
   "metadata": {},
   "outputs": [
    {
     "data": {
      "text/plain": [
       "tensor([[-1.3845, -2.2084]], grad_fn=<ViewBackward0>)"
      ]
     },
     "execution_count": 47,
     "metadata": {},
     "output_type": "execute_result"
    }
   ],
   "source": [
    "\n",
    "\n",
    "# image_features: [batch, embedding]\n",
    "# text_features: [batch, category, embedding]\n",
    "# output: [batch, category]\n",
    "similarity = torch.einsum('be,bce->bc', image_features, text_features)\n",
    "similarity"
   ]
  },
  {
   "cell_type": "code",
   "execution_count": 37,
   "metadata": {},
   "outputs": [
    {
     "data": {
      "text/plain": [
       "tensor([ 1.,  0., -1.])"
      ]
     },
     "execution_count": 37,
     "metadata": {},
     "output_type": "execute_result"
    }
   ],
   "source": [
    "def tyyy(x):\n",
    "    mean = x.mean()\n",
    "    std = x.std()\n",
    "    y = (x - mean) / std\n",
    "    return y\n",
    "tyyy(torch.tensor([233.0, 121, 9], dtype=torch.float))\n"
   ]
  },
  {
   "cell_type": "code",
   "execution_count": 25,
   "metadata": {},
   "outputs": [
    {
     "data": {
      "text/plain": [
       "torch.Size([1, 3])"
      ]
     },
     "execution_count": 25,
     "metadata": {},
     "output_type": "execute_result"
    }
   ],
   "source": [
    "import torch\n",
    "torch.arange(6).reshape(2, 3)[None, 0].shape"
   ]
  },
  {
   "cell_type": "code",
   "execution_count": 26,
   "metadata": {},
   "outputs": [
    {
     "data": {
      "text/plain": [
       "[1, 2, 1, 2, 1, 2]"
      ]
     },
     "execution_count": 26,
     "metadata": {},
     "output_type": "execute_result"
    }
   ],
   "source": [
    "[1, 2]*3"
   ]
  }
 ],
 "metadata": {
  "kernelspec": {
   "display_name": "demo007",
   "language": "python",
   "name": "python3"
  },
  "language_info": {
   "codemirror_mode": {
    "name": "ipython",
    "version": 3
   },
   "file_extension": ".py",
   "mimetype": "text/x-python",
   "name": "python",
   "nbconvert_exporter": "python",
   "pygments_lexer": "ipython3",
   "version": "3.11.10"
  }
 },
 "nbformat": 4,
 "nbformat_minor": 2
}
